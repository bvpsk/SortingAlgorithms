{
 "cells": [
  {
   "cell_type": "code",
   "execution_count": 1,
   "metadata": {},
   "outputs": [],
   "source": [
    "from random import randint\n",
    "from copy import deepcopy\n",
    "from time import time"
   ]
  },
  {
   "cell_type": "code",
   "execution_count": 2,
   "metadata": {},
   "outputs": [],
   "source": [
    "n = 20  #Size of array\n",
    "\n",
    "data = [randint(0, 100000) for _ in range(n)]\n",
    "ground_truth = sorted(data)\n",
    "# print(data)\n"
   ]
  },
  {
   "cell_type": "markdown",
   "metadata": {},
   "source": [
    "<h1>1) Bubble Sort</h1>"
   ]
  },
  {
   "cell_type": "code",
   "execution_count": 3,
   "metadata": {},
   "outputs": [
    {
     "name": "stdout",
     "output_type": "stream",
     "text": [
      "True\n"
     ]
    }
   ],
   "source": [
    "arr = deepcopy(data)\n",
    "\n",
    "def bubbleSort(arr, n = n):\n",
    "    for i in range(0, n - 1):\n",
    "        for j in range(i + 1, n):\n",
    "            if arr[j] < arr[i]:\n",
    "                temp = arr[j]\n",
    "                arr[j] = arr[i]\n",
    "                arr[i] = temp\n",
    "\n",
    "bubbleSort(arr)\n",
    "\n",
    "# print(f\"Before Sorting : {data}\")\n",
    "# print(f\"After Sorting : {arr}\")\n",
    "print(arr == ground_truth)"
   ]
  },
  {
   "cell_type": "markdown",
   "metadata": {},
   "source": [
    "<h1>2) Insertion Sort</h1>"
   ]
  },
  {
   "cell_type": "code",
   "execution_count": 52,
   "metadata": {},
   "outputs": [
    {
     "name": "stdout",
     "output_type": "stream",
     "text": [
      "True\n"
     ]
    }
   ],
   "source": [
    "arr = deepcopy(data)\n",
    "\n",
    "def insertionSort(arr, n = n):\n",
    "    for i in range(n):\n",
    "        key = arr[i]\n",
    "        for j in range(0, i):\n",
    "            if key < arr[j]:\n",
    "                temp = arr[i]\n",
    "                arr[i] = arr[j]\n",
    "                arr[j] = temp\n",
    "\n",
    "insertionSort(arr)\n",
    "\n",
    "# print(f\"Before Sorting : {data}\")\n",
    "# print(f\"After Sorting : {arr}\")\n",
    "print(arr == ground_truth)\n"
   ]
  },
  {
   "cell_type": "markdown",
   "metadata": {},
   "source": [
    "<h1>3) Selection Sort</h1>"
   ]
  },
  {
   "cell_type": "code",
   "execution_count": 53,
   "metadata": {},
   "outputs": [
    {
     "name": "stdout",
     "output_type": "stream",
     "text": [
      "Before Sorting : [17617, 69296, 88923, 62629, 92644, 9153, 97729, 975, 37683, 67374, 27389, 18486, 62624, 76208, 44242, 79893, 92270, 62463, 47574, 47513]\n",
      "After Sorting : [975, 9153, 17617, 18486, 27389, 37683, 44242, 47513, 47574, 62463, 62624, 62629, 67374, 69296, 76208, 79893, 88923, 92270, 92644, 97729]\n",
      "True\n"
     ]
    }
   ],
   "source": [
    "arr = deepcopy(data)\n",
    "\n",
    "\n",
    "def selectionSort(arr, n = n):\n",
    "    for i in range(n):\n",
    "        key = i\n",
    "        for j in range(i + 1, n):\n",
    "            if arr[j] < arr[key]:\n",
    "                key = j\n",
    "        temp = arr[key]\n",
    "        arr[key] = arr[i]\n",
    "        arr[i] = temp\n",
    "selectionSort(arr)\n",
    "\n",
    "print(f\"Before Sorting : {data}\")\n",
    "print(f\"After Sorting : {arr}\")\n",
    "print(arr == ground_truth)"
   ]
  },
  {
   "cell_type": "markdown",
   "metadata": {},
   "source": [
    "<h1>4) Merge Sort</h1>"
   ]
  },
  {
   "cell_type": "code",
   "execution_count": 54,
   "metadata": {
    "scrolled": true
   },
   "outputs": [
    {
     "name": "stdout",
     "output_type": "stream",
     "text": [
      "Before Sorting : [17617, 69296, 88923, 62629, 92644, 9153, 97729, 975, 37683, 67374, 27389, 18486, 62624, 76208, 44242, 79893, 92270, 62463, 47574, 47513]\n",
      "After Sorting : [975, 9153, 17617, 18486, 27389, 37683, 44242, 47513, 47574, 62463, 62624, 62629, 67374, 69296, 76208, 79893, 88923, 92270, 92644, 97729]\n",
      "True\n"
     ]
    }
   ],
   "source": [
    "arr = deepcopy(data)\n",
    "\n",
    "def merge_sort(arr):\n",
    "    if len(arr) > 1:\n",
    "        mid = len(arr) // 2\n",
    "        L = arr[: mid]\n",
    "        R = arr[mid : ]\n",
    "        merge_sort(L)\n",
    "        merge_sort(R)\n",
    "        i = j = k = 0\n",
    "        while i < len(L) and j < len(R):\n",
    "            if L[i] < R[j]:\n",
    "                arr[k] = L[i]\n",
    "                k += 1\n",
    "                i += 1\n",
    "            else:\n",
    "                arr[k] = R[j]\n",
    "                k += 1\n",
    "                j += 1\n",
    "        while i < len(L):\n",
    "            arr[k] = L[i]\n",
    "            k += 1\n",
    "            i += 1\n",
    "        while j < len(R):\n",
    "            arr[k] = R[j]\n",
    "            k += 1\n",
    "            j += 1\n",
    "    else:\n",
    "        return arr\n",
    "\n",
    "merge_sort(arr)\n",
    "\n",
    "print(f\"Before Sorting : {data}\")\n",
    "print(f\"After Sorting : {arr}\")\n",
    "print(arr == ground_truth)"
   ]
  },
  {
   "cell_type": "markdown",
   "metadata": {},
   "source": [
    "<h1>5) Quick Sort</h1>"
   ]
  },
  {
   "cell_type": "code",
   "execution_count": 55,
   "metadata": {},
   "outputs": [
    {
     "name": "stdout",
     "output_type": "stream",
     "text": [
      "Before Sorting : [17617, 69296, 88923, 62629, 92644, 9153, 97729, 975, 37683, 67374, 27389, 18486, 62624, 76208, 44242, 79893, 92270, 62463, 47574, 47513]\n",
      "After Sorting : [975, 9153, 17617, 18486, 27389, 37683, 44242, 47513, 47574, 62463, 62624, 62629, 67374, 69296, 76208, 79893, 88923, 92270, 92644, 97729]\n",
      "True\n"
     ]
    }
   ],
   "source": [
    "arr = deepcopy(data)\n",
    "\n",
    "def qs(arr):\n",
    "    if len(arr) == 1:\n",
    "        return arr\n",
    "    if len(arr) == 0:\n",
    "        return []\n",
    "    pivot = len(arr) - 1\n",
    "    L = []\n",
    "    R = []\n",
    "    for i in range(len(arr) - 1):\n",
    "        if arr[pivot] > arr[i]:\n",
    "            L.append(arr[i])\n",
    "        else:\n",
    "            R.append(arr[i])\n",
    "    L = qs(L)\n",
    "    R = qs(R)\n",
    "    return L + [arr[pivot]] + R\n",
    "\n",
    "def quickSort(arr):\n",
    "    a = qs(arr)\n",
    "    for i in range(n):\n",
    "        arr[i] = a[i]\n",
    "\n",
    "quickSort(arr)\n",
    "print(f\"Before Sorting : {data}\")\n",
    "print(f\"After Sorting : {arr}\")\n",
    "print(arr == ground_truth)"
   ]
  },
  {
   "cell_type": "markdown",
   "metadata": {},
   "source": [
    "<h1>6) Heap Sort</h1>"
   ]
  },
  {
   "cell_type": "code",
   "execution_count": 56,
   "metadata": {},
   "outputs": [
    {
     "name": "stdout",
     "output_type": "stream",
     "text": [
      "Before Sorting : [17617, 69296, 88923, 62629, 92644, 9153, 97729, 975, 37683, 67374, 27389, 18486, 62624, 76208, 44242, 79893, 92270, 62463, 47574, 47513]\n",
      "After Sorting : [975, 9153, 17617, 18486, 27389, 37683, 44242, 47513, 47574, 62463, 62624, 62629, 67374, 69296, 76208, 79893, 88923, 92270, 92644, 97729]\n",
      "True\n"
     ]
    }
   ],
   "source": [
    "arr = deepcopy(data)\n",
    "def heapify(arr, n, i):\n",
    "    largest = i\n",
    "    l = 2*i + 1\n",
    "    r = 2*i + 2\n",
    "    if l < n and arr[l] > arr[largest]:\n",
    "        largest = l\n",
    "    if r < n and arr[r] > arr[largest]:\n",
    "        largest = r\n",
    "    if largest != i:\n",
    "        temp = arr[largest]\n",
    "        arr[largest] = arr[i]\n",
    "        arr[i] = temp\n",
    "        heapify(arr, n, largest)\n",
    "\n",
    "def heapSort(arr):\n",
    "    for i in range(n, -1, -1):\n",
    "        heapify(arr, n, i)\n",
    "    for i in range(n - 1, 0 , -1):\n",
    "        arr[i], arr[0] = arr[0], arr[i]\n",
    "        heapify(arr, i , 0)\n",
    "    \n",
    "\n",
    "heapSort(arr)\n",
    "    \n",
    "    \n",
    "print(f\"Before Sorting : {data}\")\n",
    "print(f\"After Sorting : {arr}\")\n",
    "print(arr == ground_truth)"
   ]
  },
  {
   "cell_type": "markdown",
   "metadata": {},
   "source": [
    "<h1>7) Counting Sort</h1>"
   ]
  },
  {
   "cell_type": "code",
   "execution_count": 57,
   "metadata": {},
   "outputs": [
    {
     "name": "stdout",
     "output_type": "stream",
     "text": [
      "Before Sorting : [975, 9153, 17617, 18486, 27389, 37683, 44242, 47513, 47574, 62463, 62624, 62629, 67374, 69296, 76208, 79893, 88923, 92270, 92644, 97729]\n",
      "After Sorting : [975, 9153, 17617, 18486, 27389, 37683, 44242, 47513, 47574, 62463, 62624, 62629, 67374, 69296, 76208, 79893, 88923, 92270, 92644, 97729]\n",
      "True\n"
     ]
    }
   ],
   "source": [
    "def countSort(arr):\n",
    "    mx = max(arr)\n",
    "    count = {i : 0 for i in range(mx + 1)}\n",
    "    for i in arr:\n",
    "        count[i] += 1\n",
    "    for i in range(1, mx + 1):\n",
    "        count[i] += count[i - 1]\n",
    "    op = [0] * n\n",
    "    for i in range(n):\n",
    "        op[count[arr[i]] - 1] = arr[i]\n",
    "        count[arr[i]] -= 1\n",
    "    for i in range(n):\n",
    "        arr[i] = op[i]\n",
    "\n",
    "countSort(data)\n",
    "print(f\"Before Sorting : {data}\")\n",
    "print(f\"After Sorting : {arr}\")\n",
    "print(arr == ground_truth)"
   ]
  },
  {
   "cell_type": "markdown",
   "metadata": {},
   "source": [
    "<h1>8) Radix Sort</h1>"
   ]
  },
  {
   "cell_type": "code",
   "execution_count": 58,
   "metadata": {},
   "outputs": [
    {
     "name": "stdout",
     "output_type": "stream",
     "text": [
      "Before Sorting : [975, 9153, 17617, 18486, 27389, 37683, 44242, 47513, 47574, 62463, 62624, 62629, 67374, 69296, 76208, 79893, 88923, 92270, 92644, 97729]\n",
      "After Sorting : [975, 9153, 17617, 18486, 27389, 37683, 44242, 47513, 47574, 62463, 62624, 62629, 67374, 69296, 76208, 79893, 88923, 92270, 92644, 97729]\n",
      "True\n"
     ]
    }
   ],
   "source": [
    "arr = deepcopy(data)\n",
    "def radixSort(arr):\n",
    "    mx = max(arr)\n",
    "    m = len(str(mx))\n",
    "    for _ in range(m):\n",
    "        a = [int(i // (10 ** _) % 10) for i in arr]\n",
    "        k = max(a)\n",
    "        op = [0] * n\n",
    "        count = [0] * (k + 1)\n",
    "        for i in a:\n",
    "            count[i] += 1\n",
    "        for i in range(1, k + 1):\n",
    "            count[i] += count[i - 1]\n",
    "        for i in range(n-1, -1, -1):\n",
    "            op[count[int((arr[i] / (10 ** _)) % 10)] - 1] = arr[i]\n",
    "            count[int((arr[i] / (10 ** _)) % 10)] -= 1\n",
    "        for i in range(n):\n",
    "            arr[i] = op[i]\n",
    "            \n",
    "        \n",
    "        \n",
    "radixSort(arr)\n",
    "\n",
    "print(f\"Before Sorting : {data}\")\n",
    "print(f\"After Sorting : {arr}\")\n",
    "print(arr == ground_truth)"
   ]
  },
  {
   "cell_type": "markdown",
   "metadata": {},
   "source": [
    "<h1>9) Bucket Sort</h1>"
   ]
  },
  {
   "cell_type": "code",
   "execution_count": 59,
   "metadata": {},
   "outputs": [
    {
     "name": "stdout",
     "output_type": "stream",
     "text": [
      "[0.681, 0.06, 0.921, 0.892, 0.711, 0.961, 0.929, 0.571, 0.439, 0.674, 0.89, 0.998, 0.675, 0.965, 0.906, 0.155, 0.08, 0.084, 0.218, 0.202]\n",
      "Before Sorting : [0.681, 0.06, 0.921, 0.892, 0.711, 0.961, 0.929, 0.571, 0.439, 0.674, 0.89, 0.998, 0.675, 0.965, 0.906, 0.155, 0.08, 0.084, 0.218, 0.202]\n",
      "After Sorting : [0.06, 0.08, 0.084, 0.155, 0.202, 0.218, 0.439, 0.571, 0.674, 0.675, 0.681, 0.711, 0.89, 0.892, 0.906, 0.921, 0.929, 0.961, 0.965, 0.998]\n",
      "True\n"
     ]
    }
   ],
   "source": [
    "dt = [randint(1, 1000)/1000 for i in range(n)]\n",
    "gt = sorted(dt)\n",
    "ar = deepcopy(dt)\n",
    "print(ar)\n",
    "def bucketSort(arr):\n",
    "    buckets = [[] for i in range(n)]\n",
    "    for i in arr:\n",
    "        buckets[int(n * i)].append(i)\n",
    "    a = []\n",
    "    for bucket in buckets:\n",
    "        insertionSort(bucket, len(bucket))\n",
    "        a += bucket\n",
    "    for i in range(n):\n",
    "        arr[i] = a[i]\n",
    "\n",
    "bucketSort(ar)\n",
    "    \n",
    "\n",
    "print(f\"Before Sorting : {dt}\")\n",
    "print(f\"After Sorting : {ar}\")\n",
    "print(ar == gt)"
   ]
  },
  {
   "cell_type": "markdown",
   "metadata": {},
   "source": [
    "<h1>10) Shell Sort</h1>"
   ]
  },
  {
   "cell_type": "code",
   "execution_count": 60,
   "metadata": {},
   "outputs": [
    {
     "name": "stdout",
     "output_type": "stream",
     "text": [
      "Before Sorting : [975, 9153, 17617, 18486, 27389, 37683, 44242, 47513, 47574, 62463, 62624, 62629, 67374, 69296, 76208, 79893, 88923, 92270, 92644, 97729]\n",
      "After Sorting : [975, 9153, 17617, 18486, 27389, 37683, 44242, 47513, 47574, 62463, 62624, 62629, 67374, 69296, 76208, 79893, 88923, 92270, 92644, 97729]\n",
      "True\n"
     ]
    }
   ],
   "source": [
    "arr = deepcopy(data)\n",
    "\n",
    "def shellSort(arr):\n",
    "    n = len(arr)\n",
    "    interval = 1\n",
    "    while interval < n / 3:\n",
    "        interval = interval*3 + 1\n",
    "    while interval != 1:\n",
    "        sublists = []\n",
    "        for i in range(interval):\n",
    "            sublists.append([])\n",
    "            for j in range(i, n, interval):\n",
    "                sublists[-1].append(arr[j])\n",
    "        for li in sublists:\n",
    "            insertionSort(li, len(li))\n",
    "        for i in range(interval):\n",
    "            for j in range(len(sublists[i])):\n",
    "                arr[i + j*interval] = sublists[i][j]\n",
    "        interval = (interval - 1)//3\n",
    "    insertionSort(arr, len(arr))\n",
    "        \n",
    "\n",
    "shellSort(arr)\n",
    "print(f\"Before Sorting : {data}\")\n",
    "print(f\"After Sorting : {arr}\")\n",
    "print(arr == ground_truth)"
   ]
  },
  {
   "cell_type": "code",
   "execution_count": 61,
   "metadata": {},
   "outputs": [
    {
     "name": "stdout",
     "output_type": "stream",
     "text": [
      "Time Taken for Insertion Sort is 0.000 secs\n",
      "Time Taken for Shell Sort is 0.000 secs\n"
     ]
    }
   ],
   "source": [
    "arr = deepcopy(data)\n",
    "t = time()\n",
    "insertionSort(arr, len(arr))\n",
    "print(f\"Time Taken for Insertion Sort is {time() - t:.3f} secs\")\n",
    "arr = deepcopy(data)\n",
    "t = time()\n",
    "shellSort(arr)\n",
    "print(f\"Time Taken for Shell Sort is {time() - t:.3f} secs\")"
   ]
  },
  {
   "cell_type": "code",
   "execution_count": null,
   "metadata": {},
   "outputs": [],
   "source": []
  }
 ],
 "metadata": {
  "kernelspec": {
   "display_name": "Python 3",
   "language": "python",
   "name": "python3"
  },
  "language_info": {
   "codemirror_mode": {
    "name": "ipython",
    "version": 3
   },
   "file_extension": ".py",
   "mimetype": "text/x-python",
   "name": "python",
   "nbconvert_exporter": "python",
   "pygments_lexer": "ipython3",
   "version": "3.7.3"
  }
 },
 "nbformat": 4,
 "nbformat_minor": 2
}
